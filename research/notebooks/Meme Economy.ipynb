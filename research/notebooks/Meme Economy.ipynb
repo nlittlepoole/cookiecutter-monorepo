{
 "cells": [
  {
   "cell_type": "markdown",
   "metadata": {},
   "source": [
    "# Meme Economy Health Benchmark\n",
    "\n",
    "### Why?\n",
    "I just wanted a dumb example for this repository. So why not focus on memes. \n",
    "\n",
    "![](https://media.giphy.com/media/wcjtdRkYDK0sU/giphy.gif)\n",
    "\n",
    "### Thought Process\n",
    "Reddit users post on [r/MemeEconomy](https://reddit.com/r/memeeconomy) with new meme templates that have potential (`buy`) or memes that have become oversaturated (`sell`). In a healthy meme economy, we'd see more `buy` posts than `sell` posts. The ratio of buys over \n",
    "\n",
    "$$ health = \\frac{buy}{buy + sell} $$\n",
    "<br>\n",
    "\n",
    "\n",
    "### Bayes Theorem\n",
    "A frequentists statistician would use the above and be done. However, a Bayesian would consider a different approach. One reason would why, is the problem of identifying `buy` and `sell` posts. Below I'll naively just assign posts based on if the post has `buy` or `sell` in the title. This means that posts without either will not be considered. That makes the data for our inference a sample of the population, therefore introducing some uncertainty about our results. Bayesian statstics deals with the notion of uncertainty.\n",
    "<br>\n",
    "\n",
    "$$ P(A \\mid B) = \\frac{P(B \\mid A) \\, P(A)}{P(B)} $$\n",
    "<br>\n",
    "\n",
    "The above is Bayes law. In Bayesian Inferance, A is the parameter of our model (let's say the probability of a buy post) and B is our data. $P(B \\mid A)$ is known as a liklihood and $P(A)$ our prior. Our data is a series of boolean values (1 for `buy`, 0 for `sell`), looking something like `[0,1,1,0...]`. We can think of this as essentially a coin flip. The probability distribution for a coinflip is a Bernoulli distribution $Bernoulli(p)$. p is the probability of flipping a heads, or in our case the probability of posting a `buy`. This model corresponds to our liklihood. For now, let's assume we have no prior knowledge of what p is, so we will set our prior to be $Uniform(0, 1)$. This means there is an equal chance that `p` is anything between 0 and 1. I won't explain the math behind how to compute $ P(A \\mid B)$, the posterior. You can look that up online pretty easily\n",
    "\n",
    "<br>\n",
    "Below we will collect the data, and use pymc's [Markov Chain Monte Carlo(MCMC)](https://en.wikipedia.org/wiki/Markov_chain_Monte_Carlo) methodology to get a propability distribution (posterior) for `p` given our data. \n"
   ]
  },
  {
   "cell_type": "code",
   "execution_count": 65,
   "metadata": {},
   "outputs": [],
   "source": [
    "# Let's import some useful libraries\n",
    "import os\n",
    "import praw\n",
    "import datetime\n",
    "\n",
    "import pymc as pm"
   ]
  },
  {
   "cell_type": "code",
   "execution_count": 66,
   "metadata": {},
   "outputs": [],
   "source": [
    "# Create a Reddit Object using my API credentials and grab the Meme Economy Subreddit\n",
    "reddit = praw.Reddit(client_id=os.environ.get('PYRESEARCH_REDDIT_CLIENT_ID'),\n",
    "                     client_secret=os.environ.get('PYRESEARCH_REDDIT_CLIENT_SECRET'),\n",
    "                     password=os.environ.get('PYRESEARCH_REDDIT_PASSWORD'),\n",
    "                     user_agent='meme economy bayesian score',\n",
    "                     username=os.environ.get('PYRESEARCH_REDDIT_USERNAME'),)\n",
    "memes = reddit.subreddit('memeeconomy')"
   ]
  },
  {
   "cell_type": "code",
   "execution_count": 67,
   "metadata": {},
   "outputs": [
    {
     "name": "stdout",
     "output_type": "stream",
     "text": [
      "90\n",
      "142\n"
     ]
    }
   ],
   "source": [
    "# Create a Dataset labeling posts buy or sell\n",
    "has_buy = []\n",
    "for submission in memes.new(limit=1000):\n",
    "    if \"buy\" in submission.title.lower():\n",
    "        has_buy.append(1)\n",
    "    elif \"sell\" in submission.title.lower():\n",
    "        has_buy.append(0)\n",
    "print(sum(has_buy))\n",
    "print(len(has_buy))"
   ]
  },
  {
   "cell_type": "code",
   "execution_count": 68,
   "metadata": {},
   "outputs": [
    {
     "name": "stdout",
     "output_type": "stream",
     "text": [
      " [-----------------100%-----------------] 18000 of 18000 complete in 1.1 sec"
     ]
    },
    {
     "name": "stderr",
     "output_type": "stream",
     "text": [
      "/opt/conda/lib/python3.6/site-packages/matplotlib/axes/_axes.py:6462: UserWarning: The 'normed' kwarg is deprecated, and has been replaced by the 'density' kwarg.\n",
      "  warnings.warn(\"The 'normed' kwarg is deprecated, and has been \"\n"
     ]
    },
    {
     "data": {
      "image/png": "[encoded data removed]",
      "text/plain": [
       "<Figure size 900x216 with 1 Axes>"
      ]
     },
     "metadata": {},
     "output_type": "display_data"
    }
   ],
   "source": [
    "%matplotlib inline\n",
    "from IPython.core.pylabtools import figsize\n",
    "from matplotlib import pyplot as plt\n",
    "\n",
    "# Setup Inference Network and use MCMC\n",
    "prior = pm.Uniform(\"p\", 0, 1)\n",
    "obs = pm.Bernoulli(\"obs\", prior, value=has_buy, observed=True)\n",
    "model = pm.Model([obs, prior])\n",
    "mcmc = pm.MCMC(model)\n",
    "mcmc.sample(18000, 1000)\n",
    "\n",
    "# Graph Posterior Distribution\n",
    "figsize(12.5, 3)\n",
    "p_trace = mcmc.trace(\"p\")[:]\n",
    "plt.hist(p_trace, histtype=\"stepfilled\", normed=True, alpha=0.85, bins=30,\n",
    "         label=\"posterior distribution\", color=\"#348ABD\")\n",
    "plt.vlines([.05, .15], [0, 0], [5, 5], alpha=0.3)\n",
    "plt.xlim(0, 1)\n",
    "plt.legend();"
   ]
  },
  {
   "cell_type": "code",
   "execution_count": 69,
   "metadata": {},
   "outputs": [
    {
     "name": "stdout",
     "output_type": "stream",
     "text": [
      "The expected probability of theta is 0.632499\n"
     ]
    }
   ],
   "source": [
    " print(\"The expected probability of theta is %f\" % p_trace.mean())"
   ]
  },
  {
   "cell_type": "markdown",
   "metadata": {},
   "source": [
    "So we end up with $p=0.632$ . That is very close to the frequentist answer of .64. This makes sense. Since we gave a uniform prior, indicating we have no prior knoweldge, MCMC will converge toward the frequentist answer. Below, I'll repeat the model, but this time, I'll compute the posterior for the first half of the data, and use the first posterior distribution as a prior in computing the second one. "
   ]
  },
  {
   "cell_type": "code",
   "execution_count": 71,
   "metadata": {},
   "outputs": [
    {
     "name": "stdout",
     "output_type": "stream",
     "text": [
      " [-----------------100%-----------------] 18000 of 18000 complete in 1.1 sec\n",
      "The expected probability of theta is 0.6452019348650069 and the variance is 0.0031325760583094543\n"
     ]
    },
    {
     "name": "stderr",
     "output_type": "stream",
     "text": [
      "/opt/conda/lib/python3.6/site-packages/matplotlib/axes/_axes.py:6462: UserWarning: The 'normed' kwarg is deprecated, and has been replaced by the 'density' kwarg.\n",
      "  warnings.warn(\"The 'normed' kwarg is deprecated, and has been \"\n"
     ]
    },
    {
     "data": {
      "image/png": "[encoded data removed]",
      "text/plain": [
       "<Figure size 900x216 with 1 Axes>"
      ]
     },
     "metadata": {},
     "output_type": "display_data"
    }
   ],
   "source": [
    "prior = pm.Uniform(\"theta\", 0, 1)\n",
    "obs = pm.Bernoulli(\"obs\", prior, value=has_buy[: len(has_buy)//2], observed=True)\n",
    "model = pm.Model([obs, prior])\n",
    "mcmc = pm.MCMC(model)\n",
    "mcmc.sample(18000, 1000)\n",
    "\n",
    "predicted_theta = mcmc.trace('theta')[:].mean()\n",
    "predicted_var = mcmc.trace('theta')[:].var()\n",
    "print(f\"\\nThe expected probability of theta is {predicted_theta} and the variance is {predicted_var}\")\n",
    "figsize(12.5, 3)\n",
    "p_trace = mcmc.trace(\"theta\")[:]\n",
    "plt.hist(p_trace, histtype=\"stepfilled\", normed=True, alpha=0.85, bins=30,\n",
    "         label=\"posterior distribution\", color=\"#348ABD\")\n",
    "plt.vlines([.05, .15], [0, 0], [5, 5], alpha=0.3)\n",
    "plt.xlim(0, 1)\n",
    "plt.legend();"
   ]
  },
  {
   "cell_type": "code",
   "execution_count": 72,
   "metadata": {},
   "outputs": [
    {
     "name": "stdout",
     "output_type": "stream",
     "text": [
      " [-----------------100%-----------------] 18000 of 18000 complete in 1.2 sec\n",
      "The expected probability of theta is 0.645021\n"
     ]
    },
    {
     "name": "stderr",
     "output_type": "stream",
     "text": [
      "/opt/conda/lib/python3.6/site-packages/matplotlib/axes/_axes.py:6462: UserWarning: The 'normed' kwarg is deprecated, and has been replaced by the 'density' kwarg.\n",
      "  warnings.warn(\"The 'normed' kwarg is deprecated, and has been \"\n"
     ]
    },
    {
     "data": {
      "image/png": "[encoded data removed]",
      "text/plain": [
       "<Figure size 900x216 with 1 Axes>"
      ]
     },
     "metadata": {},
     "output_type": "display_data"
    }
   ],
   "source": [
    "informed_prior = pm.Normal(\"theta_2\", predicted_theta, 1/ (predicted_var ** 2))\n",
    "obs = pm.Bernoulli(\"obs\", informed_prior, value=has_buy[len(has_buy)//2:], observed=True)\n",
    "model = pm.Model([obs, informed_prior])\n",
    "mcmc = pm.MCMC(model)\n",
    "mcmc.sample(18000, 1000)\n",
    "\n",
    "print(\"\\nThe expected probability of theta is %f\" % mcmc.trace('theta_2')[:].mean())\n",
    "figsize(12.5, 3)\n",
    "p_trace = mcmc.trace(\"theta_2\")[:]\n",
    "plt.hist(p_trace, histtype=\"stepfilled\", normed=True, alpha=0.85, bins=30,\n",
    "         label=\"posterior distribution\", color=\"#348ABD\")\n",
    "plt.vlines([.05, .15], [0, 0], [5, 5], alpha=0.3)\n",
    "plt.xlim(0, 1)\n",
    "plt.legend();"
   ]
  },
  {
   "cell_type": "markdown",
   "metadata": {},
   "source": [
    "Again we get a similar answer. In the second posterior, we are far more certain of `p`. This is because our prior was a lot more certain. "
   ]
  }
 ],
 "metadata": {
  "kernelspec": {
   "display_name": "Python 3",
   "language": "python",
   "name": "python3"
  },
  "language_info": {
   "codemirror_mode": {
    "name": "ipython",
    "version": 3
   },
   "file_extension": ".py",
   "mimetype": "text/x-python",
   "name": "python",
   "nbconvert_exporter": "python",
   "pygments_lexer": "ipython3",
   "version": "3.6.5"
  }
 },
 "nbformat": 4,
 "nbformat_minor": 2
}
